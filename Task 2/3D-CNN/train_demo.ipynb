{
 "cells": [
  {
   "cell_type": "markdown",
   "metadata": {},
   "source": [
    "# 3DCNN Training Demo"
   ]
  },
  {
   "cell_type": "markdown",
   "metadata": {},
   "source": [
    "### Training Dataloader\n",
    "\n",
    "Here we use the training dataset from the dataset folder."
   ]
  },
  {
   "cell_type": "code",
   "execution_count": 4,
   "metadata": {},
   "outputs": [
    {
     "name": "stdout",
     "output_type": "stream",
     "text": [
      "10\n"
     ]
    }
   ],
   "source": [
    "from torch.utils.data import DataLoader\n",
    "from data_reader import LigandDataset\n",
    "\n",
    "train_batch_size = 10\n",
    "path = \"datasets\\postera_protease2_pos_neg_train.hdf5\"\n",
    "train_data = LigandDataset(path,parse_features=False)\n",
    "train_dataloader = DataLoader(train_data, batch_size=train_batch_size,shuffle=False)\n",
    "print(train_batch_size)"
   ]
  },
  {
   "cell_type": "markdown",
   "metadata": {},
   "source": [
    "### Validation Dataloader"
   ]
  },
  {
   "cell_type": "code",
   "execution_count": 5,
   "metadata": {},
   "outputs": [],
   "source": [
    "val_batch_size = 10 \n",
    "path = \"datasets\\postera_protease2_pos_neg_val.hdf5\"\n",
    "val_data = LigandDataset(path,parse_features=False)\n",
    "val_dataloader = DataLoader(val_data, batch_size=val_batch_size,shuffle=False)"
   ]
  },
  {
   "cell_type": "markdown",
   "metadata": {},
   "source": [
    "### Instantiate models\n",
    "\n",
    "Set model instances for use with a cuda device."
   ]
  },
  {
   "cell_type": "code",
   "execution_count": 7,
   "metadata": {},
   "outputs": [
    {
     "name": "stderr",
     "output_type": "stream",
     "text": [
      "c:\\Users\\Killian\\AppData\\Local\\Programs\\Python\\Python310\\lib\\site-packages\\torch\\functional.py:568: UserWarning: torch.meshgrid: in an upcoming release, it will be required to pass the indexing argument. (Triggered internally at  ..\\aten\\src\\ATen\\native\\TensorShape.cpp:2228.)\n",
      "  return _VF.meshgrid(tensors, **kwargs)  # type: ignore[attr-defined]\n"
     ]
    }
   ],
   "source": [
    "from model import Model_3DCNN \n",
    "from voxelizer import Voxelizer3D\n",
    "from gaussian_filter import GaussianFilter\n",
    "\n",
    "use_cuda = True\n",
    "\n",
    "if use_cuda:\n",
    "    device = \"cuda\"\n",
    "else:\n",
    "    device = \"cpu\"\n",
    "\n",
    "voxelizer = Voxelizer3D(use_cuda=use_cuda,verbose=0)\n",
    "gaussian_filter = GaussianFilter(dim=3, channels=19, kernel_size=11, sigma=1, use_cuda=use_cuda)\n",
    "model = Model_3DCNN(use_cuda=use_cuda, num_classes=2)"
   ]
  },
  {
   "cell_type": "markdown",
   "metadata": {},
   "source": [
    "### Set Loss Function and Optimizer"
   ]
  },
  {
   "cell_type": "code",
   "execution_count": 8,
   "metadata": {},
   "outputs": [],
   "source": [
    "from torch.nn import CrossEntropyLoss\n",
    "from torch.optim import Adam\n",
    "\n",
    "learning_rate = 1e-4\n",
    "loss_fn = CrossEntropyLoss()\n",
    "optimizer = Adam(model.parameters(), lr=learning_rate, betas=(0.9, 0.999), eps=1e-08)"
   ]
  },
  {
   "cell_type": "markdown",
   "metadata": {},
   "source": [
    "### Train!\n",
    "\n",
    "We still need to add the model checkpoints to save the model after each epoch."
   ]
  },
  {
   "cell_type": "code",
   "execution_count": 10,
   "metadata": {},
   "outputs": [
    {
     "name": "stdout",
     "output_type": "stream",
     "text": [
      "Epoch 1\n",
      "-------------------------------\n",
      "loss: 6.916627 [    0/19533]\n",
      "loss: 1.939380 [ 1000/19533]\n",
      "loss: 2.990100 [ 2000/19533]\n",
      "loss: 0.921849 [ 3000/19533]\n",
      "loss: 3.471420 [ 4000/19533]\n",
      "loss: 3.051025 [ 5000/19533]\n"
     ]
    }
   ],
   "source": [
    "from main_train_validate import train, validate\n",
    "\n",
    "epochs = 5\n",
    "for t in range(epochs):\n",
    "    print(f\"Epoch {t+1}\\n-------------------------------\")\n",
    "    \n",
    "    \n",
    "    losses = train(\n",
    "    train_dataloader, \n",
    "    voxelizer,\n",
    "    gaussian_filter,\n",
    "    model,\n",
    "    loss_fn, \n",
    "    optimizer, \n",
    "    device\n",
    "    )\n",
    "\n",
    "\n",
    "    avg_loss, accuracy = validate(\n",
    "    val_dataloader, \n",
    "    voxelizer,\n",
    "    gaussian_filter,\n",
    "    model,\n",
    "    loss_fn, \n",
    "    optimizer, \n",
    "    device\n",
    "    )\n",
    "\n",
    "\n",
    "print(\"Done!\")"
   ]
  }
 ],
 "metadata": {
  "kernelspec": {
   "display_name": "Python 3.10.5 64-bit",
   "language": "python",
   "name": "python3"
  },
  "language_info": {
   "codemirror_mode": {
    "name": "ipython",
    "version": 3
   },
   "file_extension": ".py",
   "mimetype": "text/x-python",
   "name": "python",
   "nbconvert_exporter": "python",
   "pygments_lexer": "ipython3",
   "version": "3.10.5"
  },
  "orig_nbformat": 4,
  "vscode": {
   "interpreter": {
    "hash": "0d4d6cd8e3a5dabb7ec9cf28238fbf357eb2de72e6eb89ef0910f063500717db"
   }
  }
 },
 "nbformat": 4,
 "nbformat_minor": 2
}
