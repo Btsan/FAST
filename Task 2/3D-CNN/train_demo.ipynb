{
 "cells": [
  {
   "cell_type": "markdown",
   "metadata": {},
   "source": [
    "# 3DCNN Training Demo"
   ]
  },
  {
   "cell_type": "markdown",
   "metadata": {},
   "source": [
    "### Training Dataloader\n",
    "\n",
    "Here we use the training dataset from the dataset folder."
   ]
  },
  {
   "cell_type": "code",
   "execution_count": 26,
   "metadata": {},
   "outputs": [
    {
     "name": "stdout",
     "output_type": "stream",
     "text": [
      "64\n"
     ]
    }
   ],
   "source": [
    "import torch\n",
    "\n",
    "from torch.utils.data import DataLoader\n",
    "from data_reader import LigandDataset\n",
    "\n",
    "train_batch_size = 64\n",
    "path = \"datasets\\postera_protease2_pos_neg_train.hdf5\"\n",
    "train_data = LigandDataset(path,parse_features=False)\n",
    "train_dataloader = DataLoader(train_data, batch_size=train_batch_size,shuffle=False)\n",
    "print(train_batch_size)"
   ]
  },
  {
   "cell_type": "markdown",
   "metadata": {},
   "source": [
    "### Validation Dataloader"
   ]
  },
  {
   "cell_type": "code",
   "execution_count": 28,
   "metadata": {},
   "outputs": [],
   "source": [
    "val_batch_size = 64\n",
    "path = \"datasets\\postera_protease2_pos_neg_val.hdf5\"\n",
    "val_data = LigandDataset(path,parse_features=False)\n",
    "val_dataloader = DataLoader(val_data, batch_size=val_batch_size,shuffle=False)"
   ]
  },
  {
   "cell_type": "markdown",
   "metadata": {},
   "source": [
    "### Instantiate models\n",
    "\n",
    "Set model instances for use with a cuda device."
   ]
  },
  {
   "cell_type": "code",
   "execution_count": 29,
   "metadata": {},
   "outputs": [],
   "source": [
    "from model import Model_3DCNN \n",
    "from voxelizer import Voxelizer3D\n",
    "from gaussian_filter import GaussianFilter\n",
    "\n",
    "use_cuda = True\n",
    "\n",
    "if use_cuda:\n",
    "    device = \"cuda\"\n",
    "else:\n",
    "    device = \"cpu\"\n",
    "\n",
    "voxelizer = Voxelizer3D(use_cuda=use_cuda,verbose=0)\n",
    "gaussian_filter = GaussianFilter(dim=3, channels=19, kernel_size=11, sigma=1, use_cuda=use_cuda)\n",
    "model = Model_3DCNN(use_cuda=use_cuda, num_classes=2)"
   ]
  },
  {
   "cell_type": "markdown",
   "metadata": {},
   "source": [
    "### Set Loss Function and Optimizer"
   ]
  },
  {
   "cell_type": "code",
   "execution_count": 30,
   "metadata": {},
   "outputs": [],
   "source": [
    "from torch.nn import CrossEntropyLoss\n",
    "from torch.optim import Adam, RMSprop, lr_scheduler\n",
    "\n",
    "\n",
    "\n",
    "#optimizer = Adam(model.parameters(), lr=1e-4, betas=(0.9, 0.999), eps=1e-08)\n",
    "learning_rate = 7e-4\n",
    "decay_iter =100\n",
    "decay_rate = 0.95\n",
    "\n",
    "loss_fn = CrossEntropyLoss()\n",
    "\n",
    "optimizer = RMSprop(model.parameters(), lr=learning_rate)\n",
    "scheduler = lr_scheduler.StepLR(optimizer, step_size=decay_iter, gamma=decay_rate)"
   ]
  },
  {
   "cell_type": "markdown",
   "metadata": {},
   "source": [
    "### Train!\n",
    "\n",
    "We still need to add the model checkpoints to save the model after each epoch."
   ]
  },
  {
   "cell_type": "code",
   "execution_count": 31,
   "metadata": {},
   "outputs": [
    {
     "name": "stdout",
     "output_type": "stream",
     "text": [
      "Epoch 1\n",
      "-------------------------------\n",
      "loss: 6.870573 [    0/19533]\n"
     ]
    },
    {
     "ename": "KeyboardInterrupt",
     "evalue": "",
     "output_type": "error",
     "traceback": [
      "\u001b[1;31m---------------------------------------------------------------------------\u001b[0m",
      "\u001b[1;31mKeyboardInterrupt\u001b[0m                         Traceback (most recent call last)",
      "\u001b[1;32mc:\\Users\\Killian\\Documents\\GitHub\\dssiChallenge\\train_demo.ipynb Cell 11\u001b[0m in \u001b[0;36m<cell line: 6>\u001b[1;34m()\u001b[0m\n\u001b[0;32m      <a href='vscode-notebook-cell:/c%3A/Users/Killian/Documents/GitHub/dssiChallenge/train_demo.ipynb#ch0000010?line=5'>6</a>\u001b[0m \u001b[39mfor\u001b[39;00m epoch \u001b[39min\u001b[39;00m \u001b[39mrange\u001b[39m(epochs):\n\u001b[0;32m      <a href='vscode-notebook-cell:/c%3A/Users/Killian/Documents/GitHub/dssiChallenge/train_demo.ipynb#ch0000010?line=6'>7</a>\u001b[0m     \u001b[39mprint\u001b[39m(\u001b[39mf\u001b[39m\u001b[39m\"\u001b[39m\u001b[39mEpoch \u001b[39m\u001b[39m{\u001b[39;00mepoch\u001b[39m+\u001b[39m\u001b[39m1\u001b[39m\u001b[39m}\u001b[39;00m\u001b[39m\\n\u001b[39;00m\u001b[39m-------------------------------\u001b[39m\u001b[39m\"\u001b[39m)\n\u001b[1;32m---> <a href='vscode-notebook-cell:/c%3A/Users/Killian/Documents/GitHub/dssiChallenge/train_demo.ipynb#ch0000010?line=9'>10</a>\u001b[0m     losses \u001b[39m=\u001b[39m train(\n\u001b[0;32m     <a href='vscode-notebook-cell:/c%3A/Users/Killian/Documents/GitHub/dssiChallenge/train_demo.ipynb#ch0000010?line=10'>11</a>\u001b[0m     train_dataloader, \n\u001b[0;32m     <a href='vscode-notebook-cell:/c%3A/Users/Killian/Documents/GitHub/dssiChallenge/train_demo.ipynb#ch0000010?line=11'>12</a>\u001b[0m     voxelizer,\n\u001b[0;32m     <a href='vscode-notebook-cell:/c%3A/Users/Killian/Documents/GitHub/dssiChallenge/train_demo.ipynb#ch0000010?line=12'>13</a>\u001b[0m     gaussian_filter,\n\u001b[0;32m     <a href='vscode-notebook-cell:/c%3A/Users/Killian/Documents/GitHub/dssiChallenge/train_demo.ipynb#ch0000010?line=13'>14</a>\u001b[0m     model,\n\u001b[0;32m     <a href='vscode-notebook-cell:/c%3A/Users/Killian/Documents/GitHub/dssiChallenge/train_demo.ipynb#ch0000010?line=14'>15</a>\u001b[0m     loss_fn, \n\u001b[0;32m     <a href='vscode-notebook-cell:/c%3A/Users/Killian/Documents/GitHub/dssiChallenge/train_demo.ipynb#ch0000010?line=15'>16</a>\u001b[0m     optimizer, \n\u001b[0;32m     <a href='vscode-notebook-cell:/c%3A/Users/Killian/Documents/GitHub/dssiChallenge/train_demo.ipynb#ch0000010?line=16'>17</a>\u001b[0m     device\n\u001b[0;32m     <a href='vscode-notebook-cell:/c%3A/Users/Killian/Documents/GitHub/dssiChallenge/train_demo.ipynb#ch0000010?line=17'>18</a>\u001b[0m     )\n\u001b[0;32m     <a href='vscode-notebook-cell:/c%3A/Users/Killian/Documents/GitHub/dssiChallenge/train_demo.ipynb#ch0000010?line=20'>21</a>\u001b[0m     avg_loss, accuracy \u001b[39m=\u001b[39m validate(\n\u001b[0;32m     <a href='vscode-notebook-cell:/c%3A/Users/Killian/Documents/GitHub/dssiChallenge/train_demo.ipynb#ch0000010?line=21'>22</a>\u001b[0m     val_dataloader, \n\u001b[0;32m     <a href='vscode-notebook-cell:/c%3A/Users/Killian/Documents/GitHub/dssiChallenge/train_demo.ipynb#ch0000010?line=22'>23</a>\u001b[0m     voxelizer,\n\u001b[1;32m   (...)\u001b[0m\n\u001b[0;32m     <a href='vscode-notebook-cell:/c%3A/Users/Killian/Documents/GitHub/dssiChallenge/train_demo.ipynb#ch0000010?line=27'>28</a>\u001b[0m     device\n\u001b[0;32m     <a href='vscode-notebook-cell:/c%3A/Users/Killian/Documents/GitHub/dssiChallenge/train_demo.ipynb#ch0000010?line=28'>29</a>\u001b[0m     )\n\u001b[0;32m     <a href='vscode-notebook-cell:/c%3A/Users/Killian/Documents/GitHub/dssiChallenge/train_demo.ipynb#ch0000010?line=30'>31</a>\u001b[0m     checkpoint_dict \u001b[39m=\u001b[39m {\n\u001b[0;32m     <a href='vscode-notebook-cell:/c%3A/Users/Killian/Documents/GitHub/dssiChallenge/train_demo.ipynb#ch0000010?line=31'>32</a>\u001b[0m     \u001b[39m\"\u001b[39m\u001b[39mmodel_state_dict\u001b[39m\u001b[39m\"\u001b[39m: model\u001b[39m.\u001b[39mstate_dict(),\n\u001b[0;32m     <a href='vscode-notebook-cell:/c%3A/Users/Killian/Documents/GitHub/dssiChallenge/train_demo.ipynb#ch0000010?line=32'>33</a>\u001b[0m     \u001b[39m\"\u001b[39m\u001b[39moptimizer_state_dict\u001b[39m\u001b[39m\"\u001b[39m: optimizer\u001b[39m.\u001b[39mstate_dict(),\n\u001b[0;32m     <a href='vscode-notebook-cell:/c%3A/Users/Killian/Documents/GitHub/dssiChallenge/train_demo.ipynb#ch0000010?line=33'>34</a>\u001b[0m     \u001b[39m\"\u001b[39m\u001b[39mloss\u001b[39m\u001b[39m\"\u001b[39m: losses[\u001b[39m-\u001b[39m\u001b[39m1\u001b[39m],\n\u001b[0;32m     <a href='vscode-notebook-cell:/c%3A/Users/Killian/Documents/GitHub/dssiChallenge/train_demo.ipynb#ch0000010?line=34'>35</a>\u001b[0m     \u001b[39m\"\u001b[39m\u001b[39mepoch\u001b[39m\u001b[39m\"\u001b[39m: epoch\u001b[39m+\u001b[39m\u001b[39m1\u001b[39m\n\u001b[0;32m     <a href='vscode-notebook-cell:/c%3A/Users/Killian/Documents/GitHub/dssiChallenge/train_demo.ipynb#ch0000010?line=35'>36</a>\u001b[0m     }\n",
      "File \u001b[1;32mc:\\Users\\Killian\\Documents\\GitHub\\dssiChallenge\\main_train_validate.py:64\u001b[0m, in \u001b[0;36mtrain\u001b[1;34m(dataloader, voxelizer, gaussian_filter, model, loss_fn, optimizer, device)\u001b[0m\n\u001b[0;32m     62\u001b[0m pred, _ \u001b[39m=\u001b[39m model(vol_batch)\n\u001b[0;32m     63\u001b[0m loss \u001b[39m=\u001b[39m loss_fn(pred, labels)\n\u001b[1;32m---> 64\u001b[0m loss_record \u001b[39m=\u001b[39m loss\u001b[39m.\u001b[39;49mcpu()\u001b[39m.\u001b[39mdata\u001b[39m.\u001b[39mitem()\n\u001b[0;32m     65\u001b[0m losses\u001b[39m.\u001b[39mappend(loss_record)\n\u001b[0;32m     67\u001b[0m \u001b[39m# backward step \u001b[39;00m\n",
      "\u001b[1;31mKeyboardInterrupt\u001b[0m: "
     ]
    }
   ],
   "source": [
    "from main_train_validate import train, validate\n",
    "\n",
    "# here we set a model path for saving\n",
    "\n",
    "epochs = 5\n",
    "for epoch in range(epochs):\n",
    "    print(f\"Epoch {epoch+1}\\n-------------------------------\")\n",
    "    \n",
    "    \n",
    "    losses = train(\n",
    "    train_dataloader, \n",
    "    voxelizer,\n",
    "    gaussian_filter,\n",
    "    model,\n",
    "    loss_fn, \n",
    "    optimizer, \n",
    "    device\n",
    "    )\n",
    "\n",
    "\n",
    "    avg_loss, accuracy = validate(\n",
    "    val_dataloader, \n",
    "    voxelizer,\n",
    "    gaussian_filter,\n",
    "    model,\n",
    "    loss_fn, \n",
    "    optimizer, \n",
    "    device\n",
    "    )\n",
    "\n",
    "    checkpoint_dict = {\n",
    "    \"model_state_dict\": model.state_dict(),\n",
    "    \"optimizer_state_dict\": optimizer.state_dict(),\n",
    "    \"loss\": losses[-1],\n",
    "    \"epoch\": epoch+1\n",
    "    }\n",
    "    model_path = \"models\\\\3DCNN_model_\" + \"checkpoint\" + str(epoch+1) + \".pth\"\n",
    "    torch.save(checkpoint_dict, model_path)\n",
    "\n",
    "\n",
    "\n",
    "print(\"Done!\")"
   ]
  }
 ],
 "metadata": {
  "kernelspec": {
   "display_name": "Python 3.10.5 64-bit",
   "language": "python",
   "name": "python3"
  },
  "language_info": {
   "codemirror_mode": {
    "name": "ipython",
    "version": 3
   },
   "file_extension": ".py",
   "mimetype": "text/x-python",
   "name": "python",
   "nbconvert_exporter": "python",
   "pygments_lexer": "ipython3",
   "version": "3.10.5"
  },
  "orig_nbformat": 4,
  "vscode": {
   "interpreter": {
    "hash": "0d4d6cd8e3a5dabb7ec9cf28238fbf357eb2de72e6eb89ef0910f063500717db"
   }
  }
 },
 "nbformat": 4,
 "nbformat_minor": 2
}
